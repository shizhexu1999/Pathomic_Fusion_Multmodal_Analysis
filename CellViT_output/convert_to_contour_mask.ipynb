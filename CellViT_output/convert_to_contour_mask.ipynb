{
 "cells": [
  {
   "cell_type": "code",
   "execution_count": 16,
   "metadata": {},
   "outputs": [
    {
     "data": {
      "text/plain": [
       "True"
      ]
     },
     "execution_count": 16,
     "metadata": {},
     "output_type": "execute_result"
    }
   ],
   "source": [
    "import cv2\n",
    "import numpy as np\n",
    "\n",
    "\n",
    "image = cv2.imread(\"/Users/shizhexu/Downloads/sx263-3/CellViT_output/cell_image_3.png\")\n",
    "\n",
    "# convert the image from BGR to HSV color space\n",
    "hsv = cv2.cvtColor(image, cv2.COLOR_BGR2HSV)\n",
    "\n",
    "# define the range of yellow color in HSV\n",
    "lower_yellow = np.array([30, 100, 100])\n",
    "upper_yellow = np.array([40, 255, 255])\n",
    "\n",
    "# create a mask to only capture areas that are yellow\n",
    "mask = cv2.inRange(hsv, lower_yellow, upper_yellow)\n",
    "\n",
    "# find contours in the mask\n",
    "contours, _ = cv2.findContours(mask, cv2.RETR_EXTERNAL, cv2.CHAIN_APPROX_SIMPLE)\n",
    "\n",
    "# create an empty mask to draw contours\n",
    "contour_mask = np.zeros_like(mask)\n",
    "\n",
    "\n",
    "cv2.drawContours(\n",
    "    contour_mask, contours, -1, 255, thickness=1\n",
    ")  # Adjust thickness as needed\n",
    "\n",
    "\n",
    "# kernel = np.ones((5,5), np.uint8)\n",
    "# mask = cv2.morphologyEx(mask, cv2.MORPH_CLOSE, kernel)\n",
    "# mask = cv2.morphologyEx(mask, cv2.MORPH_OPEN, kernel)\n",
    "\n",
    "cv2.imwrite(\n",
    "    \"/Users/shizhexu/Downloads/sx263-3/CellViT_output/cell_segmentation_neoplastic_3.png\",\n",
    "    contour_mask,\n",
    ")"
   ]
  }
 ],
 "metadata": {
  "kernelspec": {
   "display_name": "pathomic_fusion",
   "language": "python",
   "name": "python3"
  },
  "language_info": {
   "codemirror_mode": {
    "name": "ipython",
    "version": 3
   },
   "file_extension": ".py",
   "mimetype": "text/x-python",
   "name": "python",
   "nbconvert_exporter": "python",
   "pygments_lexer": "ipython3",
   "version": "3.9.19"
  }
 },
 "nbformat": 4,
 "nbformat_minor": 2
}
